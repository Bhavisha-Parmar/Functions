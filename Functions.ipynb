{
  "nbformat": 4,
  "nbformat_minor": 0,
  "metadata": {
    "colab": {
      "provenance": []
    },
    "kernelspec": {
      "name": "python3",
      "display_name": "Python 3"
    },
    "language_info": {
      "name": "python"
    }
  },
  "cells": [
    {
      "cell_type": "markdown",
      "source": [
        "# **Theory Questions**"
      ],
      "metadata": {
        "id": "ozepAVsULC0D"
      }
    },
    {
      "cell_type": "markdown",
      "source": [
        "## **1. What is the difference between a function and a method in Python?**\n",
        "\n",
        "*   In Python, a function is a standalone block of code that performs a specific task, while a method is a function that is associated with an object or class and is called using dot notation.\n",
        "*   Method is called by its name, but it is associated to an object (dependent). A method definition always includes ‘self’ as its first parameter. A method is implicitly passed to the object on which it is invoked. It may or may not return any data. A method can operate on the data (instance variables) that is contained by the corresponding class\n",
        "* Function is block of code that is also called by its name. (independent)\n",
        "The function can have different parameters or may not have any at all. If any data (parameters) are passed, they are passed explicitly.\n",
        "It may or may not return any data.\n",
        "Function does not deal with Class and its instance concept.\n",
        "\n",
        "\n"
      ],
      "metadata": {
        "id": "eq8PyJl_LcpG"
      }
    },
    {
      "cell_type": "markdown",
      "source": [
        "## **2. Explain the concept of function arguments and parameters in Python.**\n",
        "\n",
        "\n",
        "\n",
        "*   In Python, function parameters are placeholders for values that a function expects as input, while arguments are the actual values passed to the function when it's called.\n",
        "\n",
        "\n",
        "**Parameters:**\n",
        "\n",
        "Parameters are defined within the parentheses of a function's definition.\n",
        "They act as variables that will hold the values passed to the function.\n",
        "\n",
        "**Example: def greet(name, greeting): - name and greeting are parameters. **\n",
        "\n",
        "**Arguments:**\n",
        "\n",
        "Arguments are the values that are passed to a function when it's called.\n",
        "They provide the actual data that the function will work with.\n",
        "\n",
        "**Example: greet(\"Alice\", \"Hello\") - \"Alice\" and \"Hello\" are arguments.**\n",
        "\n",
        "**Relationship:**\n",
        "\n",
        "When a function is called, the arguments are assigned to the corresponding parameters.\n",
        "\n",
        "The function then uses these parameter values (which are now the values of the arguments) to perform its operations.\n",
        "\n",
        "**Example:**\n",
        "\n",
        "\n",
        "    def add(x, y):  # x and y are parameters\n",
        "        return x + y\n",
        "\n",
        "    result = add(5, 3) # 5 and 3 are arguments\n",
        "    print(result)  # Output: 8\n",
        "\n",
        "**Types of Arguments**\n",
        "\n",
        "\n",
        "1.   **Positional Arguments:** Arguments passed to a function in the order they are defined in the function definition.\n",
        "2.   **Keyword Arguments:** Arguments passed to a function with the parameter name, allowing for flexibility in the order of arguments.\n",
        "3.   **Arbitrary Arguments:**\n",
        "    \n",
        "    **args:** Used to pass a variable number of positional arguments.\n",
        "    \n",
        "    **kwargs:** Used to pass a variable number of keyword arguments.\n",
        "4.   **Default Arguments:** Parameters can have default values, which are used if no argument is provided for that parameter during the function call.\n",
        "Example: def greet(name=\"User\", greeting=\"Hello\")."
      ],
      "metadata": {
        "id": "cq74CEoEMlRJ"
      }
    },
    {
      "cell_type": "markdown",
      "source": [
        "## **3. What are the different ways to define and call a function in Python?**\n",
        "\n",
        "\n",
        "In Python, functions can be defined and called in a variety of ways. Here are the different ways to define and call functions in Python:\n",
        "\n",
        "**1. Defining and Calling a Simple Function**\n",
        "The most common way to define a function is using the def keyword, followed by the function name, parentheses, and a colon. You can call the function by using its name and providing arguments (if needed).\n",
        "\n",
        "**Example:**\n",
        "\n",
        "    # Define a function\n",
        "    def greet(name):\n",
        "      print(f\"Hello, {name}!\")\n",
        "    # Call the function\n",
        "    greet(\"Alice\")\n",
        "\n",
        "**2. Function with Default Arguments**\n",
        "\n",
        "You can assign default values to function parameters. If the caller does not provide a value for the argument, the default value is used.\n",
        "\n",
        "**Example:**\n",
        "\n",
        "    def greet(name=\"Guest\"):\n",
        "        print(f\"Hello, {name}!\")\n",
        "\n",
        "    greet()        # Uses default argument\n",
        "    greet(\"Alice\") # Uses provided argument\n",
        "**3. Function with Return Value**\n",
        "\n",
        "Functions can return values using the return keyword. You can call the function and store the result in a variable.\n",
        "\n",
        "**Example:**\n",
        "\n",
        "    def add(a, b):\n",
        "        return a + b\n",
        "\n",
        "    result = add(2, 3)\n",
        "    print(result)  # Output: 5\n",
        "**4. Lambda Functions (Anonymous Functions)**\n",
        "\n",
        "Lambda functions are small, anonymous functions defined using the lambda keyword. They are often used for short operations and are typically used where a function is needed temporarily.\n",
        "\n",
        "**Example:**\n",
        "\n",
        "    # Define a lambda function\n",
        "    multiply = lambda a, b: a * b\n",
        "\n",
        "    # Call the lambda function\n",
        "    print(multiply(2, 3))  # Output: 6\n",
        "\n",
        "**5. Calling Functions with Variable Number of Arguments (Arbitrary Arguments)**\n",
        "You can define a function that accepts a variable number of positional or keyword arguments using *args and **kwargs.\n",
        "\n",
        "* *args collects additional positional arguments into a tuple.\n",
        "\n",
        "* **kwargs collects additional keyword arguments into a dictionary.\n",
        "\n",
        "* Example with *args:\n",
        "\n",
        "    def print_numbers(*args):\n",
        "        for number in args:\n",
        "            print(number)\n",
        "\n",
        "    print_numbers(1, 2, 3, 4)  # Output: 1 2 3 4\n",
        "\n",
        "* Example with **kwargs:\n",
        "\n",
        "    def print_info(**kwargs):\n",
        "        for key, value in kwargs.items():\n",
        "            print(f\"{key}: {value}\")\n",
        "      print_info(name=\"Alice\", age=25)  # Output: name: Alice age: 25\n",
        "\n",
        "**6. Function Calls with Keyword Arguments**\n",
        "\n",
        "You can pass arguments to a function by explicitly naming them in the function call. This is particularly useful when a function has multiple parameters.\n",
        "\n",
        "**Example:**\n",
        "\n",
        "    def person_info(name, age, city):\n",
        "       print(f\"Name: {name}, Age: {age}, City: {city}\")\n",
        "       person_info(name=\"Alice\", age=30, city=\"New York\")  # Keyword arguments\n",
        "\n",
        "**7. Nested Functions (Function Inside Another Function)**\n",
        "\n",
        "Functions can be defined inside other functions. The inner function can access the outer function's variables.\n",
        "\n",
        "**Example:**\n",
        "\n",
        "    def outer_function():\n",
        "        def inner_function():\n",
        "           print(\"This is the inner function\")\n",
        "    inner_function()\n",
        "    outer_function()\n",
        "\n",
        "**8. Calling Functions as First-Class Objects**\n",
        "\n",
        "\n",
        "In Python, functions are first-class objects, meaning you can pass them as arguments, return them from other functions, and assign them to variables.\n",
        "\n",
        "**Example:**\n",
        "\n",
        "    def greet(name):\n",
        "        return f\"Hello, {name}\"\n",
        "\n",
        "    def call_function(func, name):\n",
        "        return func(name)\n",
        "\n",
        "        result = call_function(greet, \"Bob\")\n",
        "        print(result)  # Output: Hello, Bob\n",
        "\n",
        "**9. Recursive Functions**\n",
        "A function can call itself, which is known as recursion. This is useful for problems that can be broken down into smaller subproblems.\n",
        "\n",
        "**Example:**\n",
        "\n",
        "    def factorial(n):\n",
        "        if n == 0 or n == 1:\n",
        "            return 1\n",
        "          return n * factorial(n - 1)\n",
        "    print(factorial(5))  # Output: 120\n",
        "\n",
        "**10. Function Annotations**\n",
        "Python allows you to add optional type hints (annotations) to function arguments and return types, which can improve code readability and help with type checking tools.\n",
        "\n",
        "**Example:**\n",
        "\n",
        "    def add(a: int, b: int) -> int:\n",
        "        return a + b\n",
        "      print(add(2, 3))  # Output: 5\n"
      ],
      "metadata": {
        "id": "Mhb2MskTOV2K"
      }
    },
    {
      "cell_type": "markdown",
      "source": [
        "## **4. What is the purpose of the `return` statement in a Python function?**\n",
        "\n",
        "The return statement in a Python function is used to send a value back to the caller and exit the function. It serves several purposes:\n",
        "\n",
        "**Returning a Value:**\n",
        "\n",
        "It allows a function to return a result, which can then be used in other parts of the program.\n",
        "\n",
        "    def add(a, b):\n",
        "        return a + b\n",
        "      result = add(3, 5)\n",
        "      print(result)  # Output: 8\n",
        "\n",
        "**Exiting a Function:**\n",
        "\n",
        "Once return is executed, the function stops running.\n",
        "\n",
        "    def example():\n",
        "        print(\"Before return\")\n",
        "        return\n",
        "        print(\"After return\")  # This will never execute\n",
        "\n",
        "    example()\n",
        "        # Output: \"Before return\"\n",
        "\n",
        "**Returning Multiple Values:**\n",
        "\n",
        "Python allows returning multiple values as a tuple.\n",
        "\n",
        "    def get_coordinates():\n",
        "        return 10, 20\n",
        "    x, y = get_coordinates()\n",
        "    print(x, y)  # Output: 10 20\n",
        "\n",
        "**Returning None:**\n",
        "\n",
        "If a function does not have a return statement, it implicitly returns None.\n",
        "\n",
        "    def no_return():\n",
        "        pass\n",
        "      print(no_return())  # Output: None"
      ],
      "metadata": {
        "id": "piLRPXKoXRHj"
      }
    },
    {
      "cell_type": "markdown",
      "source": [
        "## **5. What are iterators in Python and how do they differ from iterables?**\n",
        "\n",
        "**1. Iterables**\n",
        "\n",
        "An iterable is any Python object that can return an iterator. It is an object that implements the __iter__() method, which returns an iterator.\n",
        "\n",
        "**Examples of iterables:**\n",
        "\n",
        "* Lists\n",
        "\n",
        "* Tuples\n",
        "\n",
        "* Strings\n",
        "\n",
        "* Dictionaries\n",
        "\n",
        "* Sets\n",
        "\n",
        "      my_list = [1, 2, 3]\n",
        "      for num in my_list:  # my_list is an iterable\n",
        "        print(num)\n",
        "\n",
        "**Key characteristics of iterables:**\n",
        "\n",
        "* They can be passed to iter() to get an iterator.\n",
        "\n",
        "* They do not track their state; they generate an iterator when needed.\n",
        "\n",
        "**2. Iterators**\n",
        "\n",
        "An iterator is an object that represents a stream of data and produces elements one at a time when iterated over. It must implement:\n",
        "\n",
        "* __iter__() method (returns the iterator itself)\n",
        "\n",
        "* __next__() method (returns the next item or raises StopIteration when exhausted)\n",
        "\n",
        "\n",
        "    my_list = [1, 2, 3]\n",
        "    my_iter = iter(my_list)  # Creates an iterator\n",
        "\n",
        "    print(next(my_iter))  # Output: 1\n",
        "    print(next(my_iter))  # Output: 2\n",
        "    print(next(my_iter))  # Output: 3\n",
        "    print(next(my_iter))  # Raises StopIteration\n",
        "\n",
        "**Key characteristics of iterators:**\n",
        "\n",
        "* They are stateful; they remember where they are in the sequence.\n",
        "\n",
        "* Once exhausted, they cannot be restarted unless a new iterator is created.\n",
        "\n",
        "* They are used in loops, generators, and lazy evaluation scenarios.\n",
        "\n",
        "Key Differences Between Iterables and Iterators\n",
        "\n",
        "![image.png](data:image/png;base64,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)"
      ],
      "metadata": {
        "id": "Ne9q2zv6YXMa"
      }
    },
    {
      "cell_type": "markdown",
      "source": [
        "## **6. Explain the concept of generators in Python and how they are defined.**\n",
        "\n",
        "A generator in Python is a special type of iterator that allows lazy evaluation, meaning it generates values one at a time as they are requested, instead of storing everything in memory. Generators are particularly useful for handling large data sets efficiently.\n",
        "\n",
        "**How to Define a Generator?**\n",
        "\n",
        "Generators are defined using functions that include the yield keyword instead of return.\n",
        "\n",
        "* Example of a Simple Generator\n",
        "\n",
        "      def count_up_to(n):\n",
        "      count = 1\n",
        "      while count <= n:\n",
        "        yield count  # Suspends function execution and returns a value\n",
        "        count += 1\n",
        "\n",
        "      gen = count_up_to(3)\n",
        "      print(next(gen))  # Output: 1\n",
        "      print(next(gen))  # Output: 2\n",
        "      print(next(gen))  # Output: 3\n",
        "      # print(next(gen))  # Raises StopIteration since the generator is exhausted\n",
        "\n",
        "**How Generators Work?**\n",
        "\n",
        "* When yield is encountered, the function pauses, and the value is returned.\n",
        "* The function state (local variables, execution point) is saved.\n",
        "* The next time next() is called, execution resumes right after the last yield.\n",
        "* When there are no more yield statements, a StopIteration exception is raised.\n",
        "\n",
        "**Advantages of Generators:**\n",
        "\n",
        "* **Memory Efficient:** They don’t store all values in memory; they generate values on demand.\n",
        "\n",
        "* **Lazy Evaluation:** Suitable for working with large or infinite sequences.\n",
        "\n",
        "* **Simpler Code:** Replaces complex iterator classes with simpler functions.\n",
        "\n",
        "**Generator vs. Normal Function**\n",
        "\n",
        "A normal function returns a value and exits, while a generator function remembers its state and continues execution when called again.\n",
        "\n",
        "    def normal_function():\n",
        "    return 1  # Returns once and exits\n",
        "\n",
        "    def generator_function():\n",
        "    yield 1  # Can be resumed\n",
        "\n",
        "\n",
        "**Generator Expressions**\n",
        "\n",
        "A generator expression is similar to a list comprehension but uses parentheses () instead of square brackets [].\n",
        "\n",
        "    gen_exp = (x**2 for x in range(5))\n",
        "    print(next(gen_exp))  # Output: 0\n",
        "    print(next(gen_exp))  # Output: 1\n"
      ],
      "metadata": {
        "id": "vGVwZ3_KctLA"
      }
    },
    {
      "cell_type": "markdown",
      "source": [
        "## **7. What are the advantages of using generators over regular functions?**\n",
        "\n",
        "Generators provide several key advantages over regular functions, particularly when working with large data sets or streaming data. Here’s why they are beneficial:\n",
        "\n",
        "**1. Memory Efficiency (Lazy Evaluation)**\n",
        "Regular functions return the entire result set at once, consuming a lot of memory.\n",
        "\n",
        "Generators yield values one at a time, consuming memory only for the current value.\n",
        "\n",
        "**Example: Generating a Large Sequence**\n",
        "\n",
        "    def large_numbers():\n",
        "      for num in range(1_000_000):\n",
        "        yield num  # Generates numbers one at a time\n",
        "Instead of storing 1,000,000 numbers in memory, a generator fetches them on demand.\n",
        "\n",
        "**2. Faster Execution for Large Data Sets**\n",
        "\n",
        "Since generators don’t compute all values at once, they start producing results immediately.\n",
        "\n",
        "This makes them faster than functions that return a list, especially for large datasets.\n",
        "\n",
        "**Example: Processing a Large File Line by Line**\n",
        "\n",
        "    def read_large_file(filename):\n",
        "      with open(filename, \"r\") as file:\n",
        "          for line in file:\n",
        "            yield line  # Returns one line at a time instead of loading the entire file\n",
        "**Use case:** Reading large log files without loading them entirely into memory.\n",
        "\n",
        "**3. Can Represent Infinite Sequences**\n",
        "\n",
        "* Regular functions must return a finite list.\n",
        "\n",
        "* Generators can model infinite sequences because they yield values dynamically.\n",
        "\n",
        "**Example: Infinite Fibonacci Sequence Generator**\n",
        "\n",
        "    def fibonacci():\n",
        "      a, b = 0, 1\n",
        "      while True:\n",
        "        yield a\n",
        "        a, b = b, a + b\n",
        "\n",
        "        fib = fibonacci()\n",
        "        print(next(fib))  # Output: 0\n",
        "        print(next(fib))  # Output: 1\n",
        "        print(next(fib))  # Output: 1\n",
        "\n",
        "This wouldn’t be possible with a regular function since it would try to create an infinite list!\n",
        "\n",
        "**4. Simpler Code (No Need for Explicit Iterators)**\n",
        "\n",
        "With regular functions, implementing an iterator requires a class with __iter__() and __next__().\n",
        "\n",
        "With generators, we get this functionality for free with yield.\n",
        "\n",
        "**Example: Custom Counter Without a Class**\n",
        "\n",
        "    def countdown(n):\n",
        "      while n > 0:\n",
        "        yield n\n",
        "        n -= 1\n",
        "\n",
        "    for num in countdown(5):\n",
        "      print(num)  # Output: 5, 4, 3, 2, 1\n",
        "\n",
        "No need to define __iter__() or __next__() manually!\n",
        "\n",
        "**5. Improved Performance in Pipelines**\n",
        "\n",
        "Generators can be chained together to process data in a pipeline, reducing intermediate storage.\n",
        "\n",
        "**Example: Generator Pipeline for Data Processing**\n",
        "\n",
        "    def numbers():\n",
        "        for i in range(10):\n",
        "        yield i\n",
        "\n",
        "    def squared(seq):\n",
        "        for num in seq:\n",
        "          yield num ** 2\n",
        "\n",
        "    def even_numbers(seq):\n",
        "        for num in seq:\n",
        "          if num % 2 == 0:\n",
        "            yield num\n",
        "\n",
        "**Generator pipeline**\n",
        "\n",
        "    pipeline = even_numbers(squared(numbers()))\n",
        "    print(list(pipeline))  # Output: [0, 4, 16, 36, 64]\n",
        "\n",
        "Each step processes only one element at a time, avoiding unnecessary memory usage.\n",
        "\n",
        "**Conclusion:**\n",
        "\n",
        "* Generators are ideal when working with large data sets, streaming data, or infinite sequences.\n",
        "\n",
        "* They offer better performance, memory efficiency, and simpler code compared to regular functions."
      ],
      "metadata": {
        "id": "0YsOxlDsfuoL"
      }
    },
    {
      "cell_type": "markdown",
      "source": [
        "## **8. What is a lambda function in Python and when is it typically used?**\n",
        "\n",
        "A lambda function in Python is a small, anonymous function defined using the lambda keyword. It can have multiple arguments but only one expression, which is evaluated and returned.\n",
        "\n",
        "**Syntax:**\n",
        "\n",
        "lambda arguments: expression\n",
        "\n",
        "**Example of a Lambda Function**\n",
        "\n",
        "    add = lambda x, y: x + y\n",
        "      print(add(3, 5))  # Output: 8\n",
        "\n",
        "This is equivalent to:\n",
        "\n",
        "    def add(x, y):\n",
        "      return x + y\n",
        "\n",
        "**Lambda functions are typically used when:**\n",
        "\n",
        "* A function is simple and used only once\n",
        "\n",
        "* Instead of defining a full function, a lambda keeps the code concise.\n",
        "\n",
        "* Used with Higher-Order Functions (e.g., map(), filter(), sorted())\n",
        "\n",
        "* They make these functions more readable.\n",
        "\n",
        "**Common Use Cases**\n",
        "\n",
        "**1. With map()**\n",
        "\n",
        "map() applies a function to all elements in an iterable.\n",
        "\n",
        "    nums = [1, 2, 3, 4]\n",
        "    squared = list(map(lambda x: x**2, nums))\n",
        "    print(squared)  # Output: [1, 4, 9, 16]\n",
        "\n",
        "**2. With filter()**\n",
        "\n",
        "filter() selects elements based on a condition.\n",
        "\n",
        "    nums = [1, 2, 3, 4, 5]\n",
        "    evens = list(filter(lambda x: x % 2 == 0, nums))\n",
        "    print(evens)  # Output: [2, 4]\n",
        "\n",
        "**3. With sorted()**\n",
        "\n",
        "Sorting with a custom key.\n",
        "\n",
        "    students = [(\"Alice\", 25), (\"Bob\", 20), (\"Charlie\", 22)]\n",
        "    sorted_students = sorted(students, key=lambda x: x[1])  # Sort by age\n",
        "    print(sorted_students)  # Output: [('Bob', 20), ('Charlie', 22), ('Alice', 25)]\n",
        "\n",
        "**4. In List Comprehensions**\n",
        "\n",
        "    nums = [1, 2, 3, 4]\n",
        "    double_nums = [(lambda x: x * 2)(x) for x in nums]\n",
        "    print(double_nums)  # Output: [2, 4, 6, 8]\n",
        "\n",
        "**Limitations of Lambda Functions**\n",
        "* Cannot have multiple expressions – Only one expression is allowed.\n",
        "* Harder to read – For complex logic, a def function is preferred.\n",
        "* Limited to simple operations – Not ideal for multi-line code.\n",
        "\n",
        "**When Not to Use Lambda Functions**\n",
        "* When the function has multiple statements.\n",
        "* When clarity is more important than brevity.\n",
        "* When debugging is required (since lambdas don’t have names in error messages)."
      ],
      "metadata": {
        "id": "wLhWzS-_gPU-"
      }
    },
    {
      "cell_type": "markdown",
      "source": [
        "## **9. Explain the purpose and usage of the `map()` function in Python**\n",
        "\n",
        "The map() function in Python is used to apply a function to each item in an iterable (like a list or tuple) and return a new iterable (a map object). It is useful for transforming data without using explicit loops.\n",
        "\n",
        "**Syntax**\n",
        "\n",
        "    map(function, iterable)\n",
        "    \n",
        "    function: The function to apply to each element.\n",
        "    iterable: The sequence (list, tuple, etc.) to process.\n",
        "\n",
        "The result is an iterator, so it needs to be converted to a list (or another iterable) to see the results.\n",
        "\n",
        "**Example 1: Squaring Numbers**\n",
        "\n",
        "    nums = [1, 2, 3, 4]\n",
        "    squared = list(map(lambda x: x ** 2, nums))\n",
        "    print(squared)  # Output: [1, 4, 9, 16]\n",
        "\n",
        "\n",
        "* The lambda x: x ** 2 function squares each element.\n",
        "\n",
        "* map() applies it to each number in nums.\n",
        "\n",
        "**Example 2: Converting Strings to Integers**\n",
        "\n",
        "    str_nums = [\"1\", \"2\", \"3\"]\n",
        "    int_nums = list(map(int, str_nums))\n",
        "    print(int_nums)  # Output: [1, 2, 3]\n",
        "\n",
        "* map(int, str_nums) converts each string to an integer.\n",
        "\n",
        "**Example 3: Applying map() with Multiple Iterables**\n",
        "\n",
        "    a = [1, 2, 3]\n",
        "    b = [4, 5, 6]\n",
        "\n",
        "    sum_list = list(map(lambda x, y: x + y, a, b))\n",
        "    print(sum_list)  # Output: [5, 7, 9]\n",
        "\n",
        "* The lambda function takes two arguments (x, y).\n",
        "\n",
        "* map() applies it to elements from both a and b simultaneously.\n",
        "\n",
        "**Example 4: Using map() with a Defined Function**\n",
        "\n",
        "    def double(x):\n",
        "      return x * 2\n",
        "\n",
        "    nums = [1, 2, 3, 4]\n",
        "    doubled = list(map(double, nums))\n",
        "    print(doubled)  # Output: [2, 4, 6, 8]\n",
        "\n",
        "* Instead of a lambda function, we use a named function double().\n",
        "\n",
        "**Advantages of map()**\n",
        "\n",
        "* More concise than using for loops.\n",
        "*  More efficient since it applies the function without explicitly writing a loop.\n",
        "*  Works well with built-in functions like int(), str(), etc.\n",
        "\n",
        "**When NOT to Use map()**\n",
        "\n",
        "* If the function is complex, a list comprehension or a regular for loop may be more readable.\n",
        "\n",
        "**Example: Instead of use**\n",
        "\n",
        "    list(map(lambda x: x ** 2, nums))\n",
        "    A list comprehension is often clearer:\n",
        "\n",
        "      [x ** 2 for x in nums]\n",
        "\n",
        "**Conclusion**\n",
        "\n",
        "* map() is best for simple transformations when applied to each element.\n",
        "\n",
        "* It avoids explicit loops, making code more concise.\n",
        "\n",
        "* It is often combined with lambda functions for one-time operations."
      ],
      "metadata": {
        "id": "k3rGl-V8gr9V"
      }
    },
    {
      "cell_type": "markdown",
      "source": [
        "## **10. What is the difference between `map()`, `reduce()`, and `filter()` functions in Python?**\n",
        "\n",
        "These three functions (map(), reduce(), and filter()) are higher-order functions that operate on iterables. Each serves a different purpose:\n",
        "\n",
        "\n",
        "**Function Purpose:**\n",
        "\n",
        "* map()\tTransforms each item in an iterable\tA new iterable with transformed values\n",
        "* filter()\tSelects items based on a condition\tA new iterable with only elements that meet the condition\n",
        "\n",
        "* reduce()\tAggregates all items into a single result\tA single computed value\n",
        "\n",
        "**1. map() –** Apply a Function to Each Element\n",
        "\n",
        "Usage: Transforms each element in an iterable and returns a new iterable (map object).\n",
        "\n",
        "**Example: Squaring Numbers**\n",
        "\n",
        "    nums = [1, 2, 3, 4]\n",
        "    squared = list(map(lambda x: x ** 2, nums))\n",
        "    print(squared)  # Output: [1, 4, 9, 16]\n",
        "\n",
        "* Use map() when you want to modify every element in an iterable.\n",
        "\n",
        "**2. filter() –** Select Elements That Meet a Condition\n",
        "\n",
        "Usage: Filters elements based on a condition and returns only those that evaluate to True.\n",
        "\n",
        "**Example: Filtering Even Numbers*\n",
        "\n",
        "    nums = [1, 2, 3, 4, 5]\n",
        "    evens = list(filter(lambda x: x % 2 == 0, nums))\n",
        "    print(evens)  # Output: [2, 4]\n",
        "\n",
        "* Use filter() when you need to extract certain elements from an iterable based on a condition.\n",
        "\n",
        "**3. reduce() – Reduce Elements to a Single Value**\n",
        "\n",
        "Usage: Applies a function cumulatively to the elements, reducing them to a single value.\n",
        "* reduce() is available in functools:\n",
        "\n",
        "  from functools import reduce\n",
        "  \n",
        "  **Example: Summing All Numbers**\n",
        "\n",
        "      from functools import reduce\n",
        "      nums = [1, 2, 3, 4]\n",
        "      total = reduce(lambda x, y: x + y, nums)\n",
        "      print(total)  # Output: 10\n",
        "\n",
        "* Use reduce() when you need to accumulate or combine values (e.g., sum, product, max, etc.).\n",
        "\n",
        "* Comparison Example\n",
        "Let's compare all three functions using the same list:\n",
        "\n",
        "      from functools import reduce\n",
        "      nums = [1, 2, 3, 4, 5]\n",
        "\n",
        "      # map() - Square each number\n",
        "      squared = list(map(lambda x: x**2, nums))\n",
        "      print(\"map:\", squared)  # [1, 4, 9, 16, 25]\n",
        "\n",
        "      # filter() - Get even numbers\n",
        "      evens = list(filter(lambda x: x % 2 == 0, nums))\n",
        "      print(\"filter:\", evens)  # [2, 4]\n",
        "\n",
        "      # reduce() - Sum all numbers\n",
        "      total = reduce(lambda x, y: x + y, nums)\n",
        "      print(\"reduce:\", total)  # 15\n",
        "\n",
        "\n",
        "![image.png](data:image/png;base64,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)\n",
        "\n",
        "**When to Use What?**\n",
        "\n",
        "* Use map() when modifying each element.\n",
        "\n",
        "* Use filter() when selecting elements based on a condition.\n",
        "\n",
        "* Use reduce() when combining all elements into a single value."
      ],
      "metadata": {
        "id": "O27tUVbDhAKX"
      }
    },
    {
      "cell_type": "markdown",
      "source": [
        "## **11. Using pen & Paper write the internal mechanism for sum operation using  reduce function on this given list:[47,11,42,13]**\n",
        "\n",
        "![WhatsApp Image 2025-04-02 at 01.36.37.jpeg](data:image/jpeg;base64,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)"
      ],
      "metadata": {
        "id": "A0_wBHG0hp5C"
      }
    },
    {
      "cell_type": "markdown",
      "source": [
        "# **Practical Questions**"
      ],
      "metadata": {
        "id": "8Zcv1AjpimOd"
      }
    },
    {
      "cell_type": "markdown",
      "source": [
        "### **1. Write a Python function that takes a list of numbers as input and returns the sum of all even numbers in the list.**"
      ],
      "metadata": {
        "id": "5GCxWrnJkBdm"
      }
    },
    {
      "cell_type": "code",
      "source": [
        "def sum_even(numbers):\n",
        "  \"\"\"\n",
        "  This function takes a list of numbers and returns the sum of all even numbers in the list.\n",
        "  \"\"\"\n",
        "  sum_of_evens = 0\n",
        "  for number in numbers:\n",
        "    if number % 2 == 0:\n",
        "      sum_of_evens += number\n",
        "  return sum_of_evens\n",
        "\n",
        "print(sum_even([2,11,42,13,32,10,45,1,8]))"
      ],
      "metadata": {
        "colab": {
          "base_uri": "https://localhost:8080/"
        },
        "id": "mrXvfwFsjt-o",
        "outputId": "21420642-0ebc-4cfe-dc5b-213396c19fc1"
      },
      "execution_count": null,
      "outputs": [
        {
          "output_type": "stream",
          "name": "stdout",
          "text": [
            "94\n"
          ]
        }
      ]
    },
    {
      "cell_type": "markdown",
      "source": [
        "### **2.  Create a Python function that accepts a string and returns the reverse of that string.**"
      ],
      "metadata": {
        "id": "MGD0oHfPkP0E"
      }
    },
    {
      "cell_type": "code",
      "source": [
        "def reverse_string(input_string):\n",
        "  \"\"\"\n",
        "  Reverses a given string.\n",
        "  \"\"\"\n",
        "  return input_string[::-1]\n",
        "\n",
        "reverse_string(\"Bhavisha\")\n"
      ],
      "metadata": {
        "colab": {
          "base_uri": "https://localhost:8080/",
          "height": 35
        },
        "id": "N49-z8_ukUyV",
        "outputId": "d9dd7537-dad4-4f00-fcb0-a6a377a5a122"
      },
      "execution_count": null,
      "outputs": [
        {
          "output_type": "execute_result",
          "data": {
            "text/plain": [
              "'ahsivahB'"
            ],
            "application/vnd.google.colaboratory.intrinsic+json": {
              "type": "string"
            }
          },
          "metadata": {},
          "execution_count": 10
        }
      ]
    },
    {
      "cell_type": "markdown",
      "source": [
        "### **3.   Implement a Python function that takes a list of integers and returns a new list containing the squares of each number.**"
      ],
      "metadata": {
        "id": "zSA1NGu9nGG1"
      }
    },
    {
      "cell_type": "code",
      "source": [
        "def square_numbers(numbers):\n",
        "  \"\"\"\n",
        "  Takes a list of integers and returns a new list containing the squares of each number.\n",
        "  \"\"\"\n",
        "  squared_numbers = []\n",
        "  for number in numbers:\n",
        "    squared_numbers.append(number**2)\n",
        "  return squared_numbers\n",
        "\n",
        "square_numbers([2,16,25,3])"
      ],
      "metadata": {
        "colab": {
          "base_uri": "https://localhost:8080/"
        },
        "id": "Z0VV0n_4nOUR",
        "outputId": "9d37c45e-7e12-45a8-f96a-6c9168d88fd5"
      },
      "execution_count": null,
      "outputs": [
        {
          "output_type": "execute_result",
          "data": {
            "text/plain": [
              "[4, 256, 625, 9]"
            ]
          },
          "metadata": {},
          "execution_count": 13
        }
      ]
    },
    {
      "cell_type": "markdown",
      "source": [
        "### **4.   Write a Python function that checks if a given number is prime or not from 1 to 200.**"
      ],
      "metadata": {
        "id": "gXQk1ClznqW1"
      }
    },
    {
      "cell_type": "code",
      "source": [
        "def is_prime(n):\n",
        "    \"\"\"Check if a number is prime.\"\"\"\n",
        "    if n < 2:\n",
        "        return False\n",
        "    for i in range(2, int(n**0.5) + 1):\n",
        "        if n % i == 0:\n",
        "            return False\n",
        "    return True\n",
        "\n",
        "# Check prime numbers from 1 to 200\n",
        "prime_numbers = [n for n in range(1, 201) if is_prime(n)]\n",
        "print(\"Prime numbers from 1 to 200:\", prime_numbers)"
      ],
      "metadata": {
        "colab": {
          "base_uri": "https://localhost:8080/"
        },
        "id": "eYoyrfAJoRkq",
        "outputId": "634b73b5-5252-4afe-b551-eb7b99f9041f"
      },
      "execution_count": null,
      "outputs": [
        {
          "output_type": "stream",
          "name": "stdout",
          "text": [
            "Prime numbers from 1 to 200: [2, 3, 5, 7, 11, 13, 17, 19, 23, 29, 31, 37, 41, 43, 47, 53, 59, 61, 67, 71, 73, 79, 83, 89, 97, 101, 103, 107, 109, 113, 127, 131, 137, 139, 149, 151, 157, 163, 167, 173, 179, 181, 191, 193, 197, 199]\n"
          ]
        }
      ]
    },
    {
      "cell_type": "markdown",
      "source": [
        "### **5.    Create an iterator class in Python that generates the Fibonacci sequence up to a specified number of terms**"
      ],
      "metadata": {
        "id": "ki-l5Rxhol-1"
      }
    },
    {
      "cell_type": "code",
      "source": [
        "class FibonacciIterator:\n",
        "    def __init__(self, n):\n",
        "        self.n = n\n",
        "        self.a, self.b = 0, 1\n",
        "        self.count = 0\n",
        "\n",
        "    def __iter__(self):\n",
        "        return self\n",
        "\n",
        "    def __next__(self):\n",
        "        if self.count >= self.n:\n",
        "            raise StopIteration\n",
        "\n",
        "        if self.count <= 1:\n",
        "          result = self.count\n",
        "        else:\n",
        "          result = self.a + self.b\n",
        "          self.a, self.b = self.b, result\n",
        "\n",
        "        self.count += 1\n",
        "        return result\n",
        "\n",
        "# Example usage\n",
        "fib_sequence = list(FibonacciIterator(10))\n",
        "print(\"Fibonacci sequence:\", fib_sequence)"
      ],
      "metadata": {
        "colab": {
          "base_uri": "https://localhost:8080/"
        },
        "id": "0K8bJjqvp0-n",
        "outputId": "ef3818b5-4705-4d06-c941-d6db94b2315b"
      },
      "execution_count": null,
      "outputs": [
        {
          "output_type": "stream",
          "name": "stdout",
          "text": [
            "Fibonacci sequence: [0, 1, 1, 2, 3, 5, 8, 13, 21, 34]\n"
          ]
        }
      ]
    },
    {
      "cell_type": "markdown",
      "source": [
        "### **6.    Write a generator function in Python that yields the powers of 2 up to a given exponent.**\n"
      ],
      "metadata": {
        "id": "d043FYmlp4-l"
      }
    },
    {
      "cell_type": "code",
      "source": [
        "def powers_of_2(exponent):\n",
        "  \"\"\"\n",
        "  Generates powers of 2 up to a given exponent.\n",
        "\n",
        "  Args:\n",
        "    exponent: The maximum exponent for the powers of 2.\n",
        "\n",
        "  Yields:\n",
        "    The powers of 2 up to the given exponent.\n",
        "  \"\"\"\n",
        "  for i in range(exponent + 1):\n",
        "    yield 2**i\n",
        "\n",
        "power_sequence = list(powers_of_2(10))\n",
        "print(\"Powers of 2:\", power_sequence)\n"
      ],
      "metadata": {
        "colab": {
          "base_uri": "https://localhost:8080/"
        },
        "id": "vLvN85v8qDEm",
        "outputId": "dc52f41e-b3b4-4c15-cb29-3566a3e1f156"
      },
      "execution_count": null,
      "outputs": [
        {
          "output_type": "stream",
          "name": "stdout",
          "text": [
            "Powers of 2: [1, 2, 4, 8, 16, 32, 64, 128, 256, 512, 1024]\n"
          ]
        }
      ]
    },
    {
      "cell_type": "markdown",
      "source": [
        "### **7.     Implement a generator function that reads a file line by line and yields each line as a string.**"
      ],
      "metadata": {
        "id": "3pr0gZwoq8LK"
      }
    },
    {
      "cell_type": "code",
      "source": [
        "# prompt:  Implement a generator function that reads a file line by line and yields each line as a string.\n",
        "from google.colab import drive\n",
        "drive.mount('/content/drive')\n",
        "\n",
        "def read_file_line_by_line(filepath):\n",
        "  \"\"\"\n",
        "  Reads a file line by line and yields each line as a string.\n",
        "\n",
        "  Args:\n",
        "    filepath: The path to the file.\n",
        "\n",
        "  Yields:\n",
        "    Each line in the file as a string.\n",
        "  \"\"\"\n",
        "  try:\n",
        "    with open(filepath, 'r') as file:\n",
        "      for line in file:\n",
        "        yield line.strip() # Remove leading/trailing whitespace\n",
        "  except FileNotFoundError:\n",
        "    print(f\"Error: File not found at {filepath}\")\n",
        "    return\n",
        "\n",
        "\n",
        "file_reader = read_file_line_by_line('/content/drive/My Drive/file1.txt')\n",
        "for line in file_reader:\n",
        "  print(line)\n"
      ],
      "metadata": {
        "colab": {
          "base_uri": "https://localhost:8080/"
        },
        "id": "gBAmGB1vrGWl",
        "outputId": "16464214-4093-4ff2-c4e9-c0a48e4b2710"
      },
      "execution_count": 2,
      "outputs": [
        {
          "output_type": "stream",
          "name": "stdout",
          "text": [
            "Mounted at /content/drive\n",
            "Hello. This is Bhavisha Parmar, Student of PWSkills.\n"
          ]
        }
      ]
    },
    {
      "cell_type": "markdown",
      "source": [
        "### **8.      Use a lambda function in Python to sort a list of tuples based on the second element of each tuple.**"
      ],
      "metadata": {
        "id": "rBXU5WyfsRsP"
      }
    },
    {
      "cell_type": "code",
      "source": [
        "students = [(\"Ram\", 78), (\"Shyam\", 45), (\"Ajay\", 12)]\n",
        "sorted_students = sorted(students, key=lambda x: x[1])  # Sort by age\n",
        "print(sorted_students)  # Output: [('Bob', 20), ('Charlie', 22), ('Alice', 25)]\n"
      ],
      "metadata": {
        "colab": {
          "base_uri": "https://localhost:8080/"
        },
        "id": "LjAnm6U_sWzO",
        "outputId": "6c86aa5d-2c02-4ee1-fd40-796feebff752"
      },
      "execution_count": null,
      "outputs": [
        {
          "output_type": "stream",
          "name": "stdout",
          "text": [
            "[('Ajay', 12), ('Shyam', 45), ('Ram', 78)]\n"
          ]
        }
      ]
    },
    {
      "cell_type": "markdown",
      "source": [
        "### **9.      Write a Python program that uses `map()` to convert a list of temperatures from Celsius to Fahrenheit.**"
      ],
      "metadata": {
        "id": "jcpaPte4svu2"
      }
    },
    {
      "cell_type": "code",
      "source": [
        "def celsius_to_fahrenheit(celsius):\n",
        "  return (celsius * 9/5) + 32\n",
        "\n",
        "celsius_temps = [0, 10, 20, 30, 40]\n",
        "fahrenheit_temps = list(map(celsius_to_fahrenheit, celsius_temps))\n",
        "fahrenheit_temps\n"
      ],
      "metadata": {
        "colab": {
          "base_uri": "https://localhost:8080/"
        },
        "id": "-WLHFFq_s039",
        "outputId": "06ee27ef-f594-44ba-bef7-cb548b7445c1"
      },
      "execution_count": null,
      "outputs": [
        {
          "output_type": "execute_result",
          "data": {
            "text/plain": [
              "[32.0, 50.0, 68.0, 86.0, 104.0]"
            ]
          },
          "metadata": {},
          "execution_count": 37
        }
      ]
    },
    {
      "cell_type": "markdown",
      "source": [
        "### **10.      Create a Python program that uses `filter()` to remove all the vowels from a given string.**"
      ],
      "metadata": {
        "id": "E6bTCIoftA16"
      }
    },
    {
      "cell_type": "code",
      "source": [
        "def remove_vowels(input_string):\n",
        "  vowels = \"aeiouAEIOU\"\n",
        "  return \"\".join(filter(lambda char: char not in vowels, input_string))\n",
        "\n",
        "string = \"Hello, World!\"\n",
        "string_without_vowels = remove_vowels(string)\n",
        "print(string_without_vowels)\n"
      ],
      "metadata": {
        "colab": {
          "base_uri": "https://localhost:8080/"
        },
        "id": "3RYupP4MtG3T",
        "outputId": "366c51dd-27a5-4a13-c6ae-60d0c3a5fa58"
      },
      "execution_count": null,
      "outputs": [
        {
          "output_type": "stream",
          "name": "stdout",
          "text": [
            "Hll, Wrld!\n"
          ]
        }
      ]
    },
    {
      "cell_type": "markdown",
      "source": [
        "### **11.      Imagine an accounting routine used in a book shop. It works on a list with sublists, which look like this:**"
      ],
      "metadata": {
        "id": "kgF23PoXtUV7"
      }
    },
    {
      "cell_type": "code",
      "source": [
        "# Given Data\n",
        "orders = [(34587, \"Learning Python, Mark Lutz\", 4, 40.95),\n",
        " (98762, \"Programming Python, Mark Lutz\", 5, 56.80),\n",
        "  (77226, \"Head First Python, Paul Barry\", 3, 32.95),\n",
        "   (88112, \"Einfuhrung in Python3, Bernd Klein\", 3, 24.99)]\n",
        "\n",
        "#Print Data\n",
        "print(\"\\t\\t\\tData\\t\\t\\n\")\n",
        "for item in orders:\n",
        "  print(item)\n",
        "\n",
        "# Write a Python program, which returns a list with 2-tuples. Each tuple consists of the order number and the product of the price per item and the quantity. The product should be increased by 10,- € if the value of the order is smaller than 100,00 €\n",
        "# Write a Python program using lambda and map\n",
        "\n",
        "result = list(map(lambda x:(x[0], x[2] * x[3] + (10 if x[2] * x[3] < 100 else 0)), orders))\n",
        "\n",
        "# Print the Result\n",
        "print(\"\\n\\nOrder Number\\t Total Price\")\n",
        "for order in result:\n",
        "  print(f\"{order[0]}\\t\\t{order[1]}\")\n"
      ],
      "metadata": {
        "colab": {
          "base_uri": "https://localhost:8080/"
        },
        "id": "auzA_ghFtq5P",
        "outputId": "66f8adb3-b8c5-411d-d59b-4b6155488a96"
      },
      "execution_count": 25,
      "outputs": [
        {
          "output_type": "stream",
          "name": "stdout",
          "text": [
            "\t\t\tData\t\t\n",
            "\n",
            "(34587, 'Learning Python, Mark Lutz', 4, 40.95)\n",
            "(98762, 'Programming Python, Mark Lutz', 5, 56.8)\n",
            "(77226, 'Head First Python, Paul Barry', 3, 32.95)\n",
            "(88112, 'Einfuhrung in Python3, Bernd Klein', 3, 24.99)\n",
            "\n",
            "\n",
            "Order Number\t Total Price\n",
            "34587\t\t163.8\n",
            "98762\t\t284.0\n",
            "77226\t\t108.85000000000001\n",
            "88112\t\t84.97\n"
          ]
        }
      ]
    }
  ]
}